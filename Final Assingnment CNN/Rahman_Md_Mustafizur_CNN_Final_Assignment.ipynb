{
  "nbformat": 4,
  "nbformat_minor": 0,
  "metadata": {
    "colab": {
      "name": "keras CNN dataset  practice1.ipynb",
      "provenance": []
    },
    "kernelspec": {
      "name": "python3",
      "display_name": "Python 3"
    },
    "language_info": {
      "name": "python"
    },
    "accelerator": "GPU"
  },
  "cells": [
    {
      "cell_type": "code",
      "metadata": {
        "id": "BwzJD3bjt6Gj"
      },
      "source": [
        "# Computer Vision and Pattern Recognition (Section-A)\n",
        "# Final Assignment CNN \n",
        "# MD MUSTAFIZUR RAHMAN (ID: 17-34272-1)\n",
        "\n",
        "import numpy as np                   \n",
        "import matplotlib.pyplot as plt      \n",
        "import random\n",
        "                        \n",
        "# MNIST dataset is included in Keras\n",
        "from keras.datasets import mnist     \n",
        "\n",
        "from keras.models import Sequential  \n",
        "\n",
        "#layers to be used in our model \n",
        "from keras.layers.core import Dense, Dropout, Activation \n",
        "# NumPy tools in keras\n",
        "from keras.utils import np_utils                         \n",
        "\n",
        "# import some additional tools\n",
        "\n",
        "from keras.preprocessing.image import ImageDataGenerator\n",
        "from keras.layers import Conv2D, MaxPooling2D, ZeroPadding2D, GlobalAveragePooling2D, Flatten\n",
        "from keras.layers.normalization import BatchNormalization"
      ],
      "execution_count": 1,
      "outputs": []
    },
    {
      "cell_type": "code",
      "metadata": {
        "colab": {
          "base_uri": "https://localhost:8080/"
        },
        "id": "Ku-0QKX6t69h",
        "outputId": "0a86b64d-5fd0-4791-f71c-c58d5f2360d8"
      },
      "source": [
        "# Reload the MNIST data\n",
        "(X_train, y_train), (X_test, y_test) = mnist.load_data()"
      ],
      "execution_count": 2,
      "outputs": [
        {
          "output_type": "stream",
          "text": [
            "Downloading data from https://storage.googleapis.com/tensorflow/tf-keras-datasets/mnist.npz\n",
            "11493376/11490434 [==============================] - 0s 0us/step\n"
          ],
          "name": "stdout"
        }
      ]
    },
    {
      "cell_type": "code",
      "metadata": {
        "colab": {
          "base_uri": "https://localhost:8080/"
        },
        "id": "Fq05aNs1t9SZ",
        "outputId": "7aa2c2b4-a1a9-4477-ce2e-52c637ccbd2d"
      },
      "source": [
        "#adding an additional dimension to represent the single-channel\n",
        "X_train = X_train.reshape(60000, 28, 28, 1) \n",
        "X_test = X_test.reshape(10000, 28, 28, 1)\n",
        "\n",
        "# change integers to 32-bit floating point numbers\n",
        "X_train = X_train.astype('float32')         \n",
        "X_test = X_test.astype('float32')\n",
        "\n",
        "# normalizing each value for each pixel for the entire vector for each input\n",
        "X_train /= 255                              \n",
        "X_test /= 255\n",
        "\n",
        "print(\"Training matrix shape\", X_train.shape)\n",
        "print(\"Testing matrix shape\", X_test.shape)"
      ],
      "execution_count": 3,
      "outputs": [
        {
          "output_type": "stream",
          "text": [
            "Training matrix shape (60000, 28, 28, 1)\n",
            "Testing matrix shape (10000, 28, 28, 1)\n"
          ],
          "name": "stdout"
        }
      ]
    },
    {
      "cell_type": "code",
      "metadata": {
        "id": "_dzPbH6IuACj"
      },
      "source": [
        "# number of unique digits\n",
        "nb_classes = 10 \n",
        "\n",
        "Y_train = np_utils.to_categorical(y_train, nb_classes)\n",
        "Y_test = np_utils.to_categorical(y_test, nb_classes)"
      ],
      "execution_count": 4,
      "outputs": []
    },
    {
      "cell_type": "code",
      "metadata": {
        "id": "cbwwZN-duCl4"
      },
      "source": [
        "\n",
        "model = Sequential()                                 \n",
        "\n",
        "# CNN Layer 1\n",
        "model.add(Conv2D(32, (3, 3), input_shape=(28,28,1)))  # 32 different kernel size=3 X 3\n",
        "model.add(BatchNormalization(axis=-1))               \n",
        "convLayer01 = Activation('relu')                            \n",
        "model.add(convLayer01)\n",
        "\n",
        "# CNN Layer 2\n",
        "model.add(Conv2D(32, (3, 3)))                        \n",
        "model.add(BatchNormalization(axis=-1))               \n",
        "model.add(Activation('relu'))                        \n",
        "convLayer02 = MaxPooling2D(pool_size=(2,2))          \n",
        "model.add(convLayer02)\n",
        "\n",
        "# CNN Layer 3\n",
        "model.add(Conv2D(64,(3, 3)))                         \n",
        "model.add(BatchNormalization(axis=-1))               \n",
        "convLayer03 = Activation('relu')                     \n",
        "model.add(convLayer03)\n",
        "\n",
        "# CNN Layer 4\n",
        "model.add(Conv2D(64, (3, 3)))                        \n",
        "model.add(BatchNormalization(axis=-1))               \n",
        "model.add(Activation('relu'))                        \n",
        "convLayer04 = MaxPooling2D(pool_size=(2,2))          \n",
        "model.add(convLayer04)\n",
        "model.add(Flatten())                                 \n",
        "\n",
        "# CNN Layer 5\n",
        "model.add(Dense(512))                                \n",
        "model.add(BatchNormalization())                      \n",
        "model.add(Activation('relu'))                        \n",
        "\n",
        "# CNN Layer 6                       \n",
        "model.add(Dropout(0.2))                              \n",
        "model.add(Dense(10))                                 \n",
        "model.add(Activation('softmax'))                     "
      ],
      "execution_count": 5,
      "outputs": []
    },
    {
      "cell_type": "code",
      "metadata": {
        "id": "ztXeFz-t8d-I"
      },
      "source": [
        "# we can do another way This CNN by saying kernel size, filter size in Array or list\n",
        "\"\"\"\n",
        "nn = [16,32,64,128,256]\n",
        "fs = [(3,3),(5,5),(7,7)]\n",
        "#ps = [(2,2),(3,3)]\n",
        "ps = [(2,2)]\n",
        "conv_layers = [0,2,4,6]\n",
        "dense_layers = [1,2,3,4,5]\n",
        " \n",
        "for d in dense_layers:\n",
        "    for c in conv_layers:\n",
        "        for n in nn:\n",
        "            for f in fs:\n",
        "                for p in ps:\n",
        " \n",
        "                    NAME = \"{}-conv-{}-neuron-{}-dense-{}-filtersize-{}-pool-size\".format(c,n,d,f,p)\n",
        "                    model = Sequential()\n",
        " \n",
        "                    #model.add( Conv2D(n), f, input_shape=(32,32,3) )\n",
        "                    model.add(Conv2D(n, f, input_shape=(28,28,1))) \n",
        "                    model.add( Activation('relu') )\n",
        "                    model.add(BatchNormalization(axis=-1)) \n",
        "                    model.add(MaxPooling2D(pool_size=(p)))          # Pool the max values over a 2x2 kernel\n",
        "                    \n",
        " \n",
        "                   \n",
        "                    for i in range(c-1):  \n",
        "                        model.add( Conv2D(n, f))\n",
        "                        model.add(Activation('relu')) \n",
        "                        model.add(BatchNormalization(axis=-1)) \n",
        "                        model.add(MaxPooling2D(pool_size=(2,2)))\n",
        "                        model.add( Flatten() )\n",
        "                    for i in range(d):  \n",
        "                        model.add( Dense(n) )\n",
        "                        model.add( Activation('relu') )\n",
        "                        model.add( Dense(10) )\n",
        "                        model.add( Activation('softmax') )\n",
        "                     \n",
        "model.summary()\n",
        "\n",
        "\"\"\" "
      ],
      "execution_count": null,
      "outputs": []
    },
    {
      "cell_type": "code",
      "metadata": {
        "colab": {
          "base_uri": "https://localhost:8080/"
        },
        "id": "dtZXPU2IuHc5",
        "outputId": "42b21c7b-136f-4d00-fa2d-025435a5b2f6"
      },
      "source": [
        "model.summary()"
      ],
      "execution_count": 6,
      "outputs": [
        {
          "output_type": "stream",
          "text": [
            "Model: \"sequential\"\n",
            "_________________________________________________________________\n",
            "Layer (type)                 Output Shape              Param #   \n",
            "=================================================================\n",
            "conv2d (Conv2D)              (None, 26, 26, 32)        320       \n",
            "_________________________________________________________________\n",
            "batch_normalization (BatchNo (None, 26, 26, 32)        128       \n",
            "_________________________________________________________________\n",
            "activation (Activation)      (None, 26, 26, 32)        0         \n",
            "_________________________________________________________________\n",
            "conv2d_1 (Conv2D)            (None, 24, 24, 32)        9248      \n",
            "_________________________________________________________________\n",
            "batch_normalization_1 (Batch (None, 24, 24, 32)        128       \n",
            "_________________________________________________________________\n",
            "activation_1 (Activation)    (None, 24, 24, 32)        0         \n",
            "_________________________________________________________________\n",
            "max_pooling2d (MaxPooling2D) (None, 12, 12, 32)        0         \n",
            "_________________________________________________________________\n",
            "conv2d_2 (Conv2D)            (None, 10, 10, 64)        18496     \n",
            "_________________________________________________________________\n",
            "batch_normalization_2 (Batch (None, 10, 10, 64)        256       \n",
            "_________________________________________________________________\n",
            "activation_2 (Activation)    (None, 10, 10, 64)        0         \n",
            "_________________________________________________________________\n",
            "conv2d_3 (Conv2D)            (None, 8, 8, 64)          36928     \n",
            "_________________________________________________________________\n",
            "batch_normalization_3 (Batch (None, 8, 8, 64)          256       \n",
            "_________________________________________________________________\n",
            "activation_3 (Activation)    (None, 8, 8, 64)          0         \n",
            "_________________________________________________________________\n",
            "max_pooling2d_1 (MaxPooling2 (None, 4, 4, 64)          0         \n",
            "_________________________________________________________________\n",
            "flatten (Flatten)            (None, 1024)              0         \n",
            "_________________________________________________________________\n",
            "dense (Dense)                (None, 512)               524800    \n",
            "_________________________________________________________________\n",
            "batch_normalization_4 (Batch (None, 512)               2048      \n",
            "_________________________________________________________________\n",
            "activation_4 (Activation)    (None, 512)               0         \n",
            "_________________________________________________________________\n",
            "dropout (Dropout)            (None, 512)               0         \n",
            "_________________________________________________________________\n",
            "dense_1 (Dense)              (None, 10)                5130      \n",
            "_________________________________________________________________\n",
            "activation_5 (Activation)    (None, 10)                0         \n",
            "=================================================================\n",
            "Total params: 597,738\n",
            "Trainable params: 596,330\n",
            "Non-trainable params: 1,408\n",
            "_________________________________________________________________\n"
          ],
          "name": "stdout"
        }
      ]
    },
    {
      "cell_type": "code",
      "metadata": {
        "id": "69FoLIhLuLSo"
      },
      "source": [
        "# optimizer\n",
        "model.compile(loss='categorical_crossentropy', optimizer='adam', metrics=['accuracy'])"
      ],
      "execution_count": 7,
      "outputs": []
    },
    {
      "cell_type": "code",
      "metadata": {
        "id": "ZTzZlYBLuMIQ"
      },
      "source": [
        "# Keras has a great built-in feature to do automatic augmentation\n",
        "gen = ImageDataGenerator(rotation_range=8, width_shift_range=0.08, shear_range=0.3,height_shift_range=0.08, zoom_range=0.08)\n",
        "\n",
        "test_gen = ImageDataGenerator()"
      ],
      "execution_count": 8,
      "outputs": []
    },
    {
      "cell_type": "code",
      "metadata": {
        "id": "tfmc4H4BuRIx"
      },
      "source": [
        "# this method actually results in significant memory savings\n",
        "train_generator = gen.flow(X_train, Y_train, batch_size=128)\n",
        "test_generator = test_gen.flow(X_test, Y_test, batch_size=128)"
      ],
      "execution_count": 9,
      "outputs": []
    },
    {
      "cell_type": "code",
      "metadata": {
        "colab": {
          "base_uri": "https://localhost:8080/"
        },
        "id": "Swq0HX4-uWSS",
        "outputId": "d089bfcc-d08a-49bc-aaf7-0531c9cefc59"
      },
      "source": [
        "# SIGNIFICANT MEMORY SAVINGS (important for larger, deeper networks)\n",
        "\n",
        "model.fit_generator(train_generator, steps_per_epoch=60000//128, epochs=10, verbose=1, validation_data=test_generator, validation_steps=10000//128)"
      ],
      "execution_count": 10,
      "outputs": [
        {
          "output_type": "stream",
          "text": [
            "/usr/local/lib/python3.7/dist-packages/tensorflow/python/keras/engine/training.py:1844: UserWarning: `Model.fit_generator` is deprecated and will be removed in a future version. Please use `Model.fit`, which supports generators.\n",
            "  warnings.warn('`Model.fit_generator` is deprecated and '\n"
          ],
          "name": "stderr"
        },
        {
          "output_type": "stream",
          "text": [
            "Epoch 1/10\n",
            "468/468 [==============================] - 60s 63ms/step - loss: 0.2798 - accuracy: 0.9110 - val_loss: 0.0786 - val_accuracy: 0.9768\n",
            "Epoch 2/10\n",
            "468/468 [==============================] - 29s 61ms/step - loss: 0.0555 - accuracy: 0.9827 - val_loss: 0.0281 - val_accuracy: 0.9912\n",
            "Epoch 3/10\n",
            "468/468 [==============================] - 29s 61ms/step - loss: 0.0390 - accuracy: 0.9872 - val_loss: 0.0250 - val_accuracy: 0.9915\n",
            "Epoch 4/10\n",
            "468/468 [==============================] - 29s 62ms/step - loss: 0.0338 - accuracy: 0.9891 - val_loss: 0.0326 - val_accuracy: 0.9895\n",
            "Epoch 5/10\n",
            "468/468 [==============================] - 29s 62ms/step - loss: 0.0290 - accuracy: 0.9907 - val_loss: 0.0310 - val_accuracy: 0.9895\n",
            "Epoch 6/10\n",
            "468/468 [==============================] - 29s 61ms/step - loss: 0.0308 - accuracy: 0.9904 - val_loss: 0.0385 - val_accuracy: 0.9857\n",
            "Epoch 7/10\n",
            "468/468 [==============================] - 29s 62ms/step - loss: 0.0237 - accuracy: 0.9920 - val_loss: 0.0276 - val_accuracy: 0.9910\n",
            "Epoch 8/10\n",
            "468/468 [==============================] - 29s 61ms/step - loss: 0.0245 - accuracy: 0.9926 - val_loss: 0.0327 - val_accuracy: 0.9898\n",
            "Epoch 9/10\n",
            "468/468 [==============================] - 29s 62ms/step - loss: 0.0247 - accuracy: 0.9921 - val_loss: 0.0195 - val_accuracy: 0.9934\n",
            "Epoch 10/10\n",
            "468/468 [==============================] - 28s 60ms/step - loss: 0.0193 - accuracy: 0.9938 - val_loss: 0.0200 - val_accuracy: 0.9939\n"
          ],
          "name": "stdout"
        },
        {
          "output_type": "execute_result",
          "data": {
            "text/plain": [
              "<tensorflow.python.keras.callbacks.History at 0x7fc33299d210>"
            ]
          },
          "metadata": {
            "tags": []
          },
          "execution_count": 10
        }
      ]
    },
    {
      "cell_type": "code",
      "metadata": {
        "colab": {
          "base_uri": "https://localhost:8080/"
        },
        "id": "QWLxm4kTuaVq",
        "outputId": "05d7c6c4-60f4-4b83-b107-80c9903bd475"
      },
      "source": [
        "score = model.evaluate(X_test, Y_test)\n",
        "print('Test score:', score[0])\n",
        "print('Test accuracy:', score[1])"
      ],
      "execution_count": 11,
      "outputs": [
        {
          "output_type": "stream",
          "text": [
            "313/313 [==============================] - 2s 5ms/step - loss: 0.0200 - accuracy: 0.9939\n",
            "Test score: 0.020008021965622902\n",
            "Test accuracy: 0.9939000010490417\n"
          ],
          "name": "stdout"
        }
      ]
    }
  ]
}