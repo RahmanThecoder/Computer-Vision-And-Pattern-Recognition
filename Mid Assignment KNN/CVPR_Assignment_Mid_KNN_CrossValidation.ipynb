{
 "cells": [
  {
   "cell_type": "code",
   "execution_count": null,
   "metadata": {},
   "outputs": [],
   "source": [
    "# Computer Vision and pattern Recognition Sec (A) \n",
    "# Assignment (Mid)\n",
    "# MD MUSTAFIZUR RAHMAN\n",
    "# ID:17-34272-1\n",
    "\n",
    "\n",
    "import numpy as np\n",
    "import matplotlib.pyplot as plt\n",
    "\n",
    "import pickle\n",
    "import os\n",
    "import platform\n",
    "\n",
    "\n",
    "%matplotlib inline"
   ]
  },
  {
   "cell_type": "code",
   "execution_count": 2,
   "metadata": {},
   "outputs": [],
   "source": [
    "#Created K-NN Class(Function) to use this later to call this function with a object\n",
    "class KNearestNeighbor(object):\n",
    "    def __init__(self):\n",
    "        pass\n",
    "    def train(self, X, y):\n",
    "        self.X_train = X\n",
    "        self.y_train = y\n",
    "    def predict(self, X, k=1, num_loops=0):\n",
    "        if num_loops == 0:\n",
    "            dists = self.compute_distances(X)\n",
    "        else:\n",
    "            raise ValueError('Invalid value %d for num_loops' % num_loops)\n",
    "        return self.predict_labels(dists, k=k)\n",
    "\n",
    "\n",
    "    def compute_distances(self, X):\n",
    "        num_test = X.shape[0]\n",
    "        num_train = self.X_train.shape[0]\n",
    "        dists = np.zeros((num_test, num_train))\n",
    "        # This distance is calculated using NO LOOPS , ALSO HAVE a ONE LOOP and Two LOOP to calculated, this is efficience\n",
    "        dists = np.sqrt(np.sum(np.square(self.X_train), axis=1) + np.sum(np.square(X), axis=1)[:, np.newaxis] - 2 * np.dot(X, self.X_train.T))\n",
    "        pass\n",
    "        return dists\n",
    "\n",
    "    def predict_labels(self, dists, k=1):\n",
    "        num_test = dists.shape[0]\n",
    "        y_pred = np.zeros(num_test)\n",
    "        for i in range(num_test):\n",
    "            closest_y = []\n",
    "            sorted_dist = np.argsort(dists[i])\n",
    "            #making a sorted list of predicted labels\n",
    "            closest_y = list(self.y_train[sorted_dist[0:k]])\n",
    "            pass\n",
    "            y_pred[i]= (np.argmax(np.bincount(closest_y)))\n",
    "            pass\n",
    "        return y_pred"
   ]
  },
  {
   "cell_type": "code",
   "execution_count": 4,
   "metadata": {},
   "outputs": [],
   "source": [
    "def load_pickle(f):\n",
    "    version = platform.python_version_tuple()\n",
    "    if version[0] == '2':\n",
    "        return  pickle.load(f)\n",
    "    elif version[0] == '3':\n",
    "        return  pickle.load(f, encoding='latin1')\n",
    "    raise ValueError(\"invalid python version: {}\".format(version))\n",
    "\n",
    "def load_CIFAR_batch(filename):\n",
    "   # loading single batch of cifar\n",
    "  with open(filename, 'rb') as f:\n",
    "    datadict = load_pickle(f)\n",
    "    X = datadict['data']\n",
    "    Y = datadict['labels']\n",
    "    #X = X.reshape(10000, 3, 32, 32).transpose(0,2,3,1).astype(\"float\")\n",
    "    Y = np.array(Y)\n",
    "    return X, Y\n",
    "\n",
    "def load_CIFAR10(ROOT):\n",
    "   # loading all cifar\n",
    "  xs = []\n",
    "  ys = []\n",
    "  for b in range(1,6):\n",
    "    f = os.path.join(ROOT, 'data_batch_%d' % (b, ))\n",
    "    X, Y = load_CIFAR_batch(f)\n",
    "    #X, Y = load_CIFAR10(f)\n",
    "    xs.append(X)\n",
    "    ys.append(Y)    \n",
    "  Xtr = np.concatenate(xs)\n",
    "  Ytr = np.concatenate(ys)\n",
    "  del X, Y\n",
    "  Xte, Yte = load_CIFAR_batch(os.path.join(ROOT, 'test_batch'))\n",
    "  return Xtr, Ytr, Xte, Yte"
   ]
  },
  {
   "cell_type": "code",
   "execution_count": 5,
   "metadata": {},
   "outputs": [
    {
     "name": "stdout",
     "output_type": "stream",
     "text": [
      "Training data shape:  (50000, 3072)\n",
      "Training labels shape:  (50000,)\n",
      "Test data shape:  (10000, 3072)\n",
      "Test labels shape:  (10000,)\n"
     ]
    }
   ],
   "source": [
    "#cifar10_dir = './data/cifar-10-batches-py/'\n",
    "cifar10_dir = 'D:/Computer Vision And Pattern Recognition/mid/cifar-10-batches-py/'\n",
    "X_train, y_train, X_test, y_test = load_CIFAR10(cifar10_dir)\n",
    "\n",
    "# Checking the size of the training and testing data\n",
    "print('Training data shape: ', X_train.shape)\n",
    "print('Training labels shape: ', y_train.shape)\n",
    "print('Test data shape: ', X_test.shape)\n",
    "print('Test labels shape: ', y_test.shape)"
   ]
  },
  {
   "cell_type": "code",
   "execution_count": 8,
   "metadata": {},
   "outputs": [
    {
     "data": {
      "image/png": "[encoded data removed]",
      "text/plain": [
       "<Figure size 432x288 with 70 Axes>"
      ]
     },
     "metadata": {
      "needs_background": "light"
     },
     "output_type": "display_data"
    }
   ],
   "source": [
    "classes = ['plane', 'car', 'bird', 'cat', 'deer', 'dog', 'frog', 'horse', 'ship', 'truck']\n",
    "num_classes = len(classes)\n",
    "samples_per_class = 7\n",
    "for y, cls in enumerate(classes):\n",
    "    idxs = np.flatnonzero(y_train == y)\n",
    "    idxs = np.random.choice(idxs, samples_per_class, replace=False)\n",
    "    for i, idx in enumerate(idxs):\n",
    "        plt_idx = i * num_classes + y + 1\n",
    "        plt.subplot(samples_per_class, num_classes, plt_idx)\n",
    "        #plt.imshow(X_train[idx].astype('uint8'))\n",
    "        #plt.imshow(X_train[idx].astype('uint12'))\n",
    "        plt.axis('off')\n",
    "        if i == 0:\n",
    "            plt.title(cls)\n",
    "plt.show()"
   ]
  },
  {
   "cell_type": "code",
   "execution_count": 9,
   "metadata": {},
   "outputs": [],
   "source": [
    "# Memory error prevention by subsampling data\n",
    "\n",
    "num_training = 10000\n",
    "#num_training = 50000\n",
    "#num_training = 40000\n",
    "#num_training = 30000\n",
    "#num_training = 20000\n",
    "mask = list(range(num_training))\n",
    "X_train = X_train[mask]\n",
    "y_train = y_train[mask]\n",
    "\n",
    "num_test = 1000\n",
    "#num_test = 10000\n",
    "#num_test = 5000\n",
    "#num_test = 100\n",
    "mask = list(range(num_test))\n",
    "X_test = X_test[mask]\n",
    "y_test = y_test[mask]"
   ]
  },
  {
   "cell_type": "code",
   "execution_count": 10,
   "metadata": {},
   "outputs": [
    {
     "name": "stdout",
     "output_type": "stream",
     "text": [
      "(10000, 3072) (1000, 3072)\n"
     ]
    }
   ],
   "source": [
    "# reshaping data and placing into rows\n",
    "X_train = np.reshape(X_train, (X_train.shape[0], -1))\n",
    "X_test = np.reshape(X_test, (X_test.shape[0], -1))\n",
    "print(X_train.shape, X_test.shape)"
   ]
  },
  {
   "cell_type": "code",
   "execution_count": 11,
   "metadata": {},
   "outputs": [
    {
     "name": "stdout",
     "output_type": "stream",
     "text": [
      "Got 103 / 1000 correct => accuracy: 0.103000\n"
     ]
    }
   ],
   "source": [
    "#creating class KNN object to use it \n",
    "classifier = KNearestNeighbor()\n",
    "classifier.train(X_train, y_train)\n",
    "dists= classifier.compute_distances(X_test)\n",
    "y_test_pred = classifier.predict_labels(dists, k=5) # here passing k=5 to test\n",
    "num_correct = np.sum(y_test_pred == y_test)\n",
    "accuracy = float(num_correct) / num_test\n",
    "print('Got %d / %d correct => accuracy: %f' % (num_correct, num_test, accuracy))"
   ]
  },
  {
   "cell_type": "code",
   "execution_count": 13,
   "metadata": {},
   "outputs": [
    {
     "name": "stdout",
     "output_type": "stream",
     "text": [
      "Printing our 5-fold accuracies for varying values of k:\n",
      "\n",
      "k = 1, accuracy = 0.203000\n",
      "k = 1, accuracy = 0.217000\n",
      "k = 1, accuracy = 0.214000\n",
      "k = 1, accuracy = 0.198000\n",
      "k = 1, accuracy = 0.215000\n",
      "k = 2, accuracy = 0.202000\n",
      "k = 2, accuracy = 0.194000\n",
      "k = 2, accuracy = 0.214000\n",
      "k = 2, accuracy = 0.186000\n",
      "k = 2, accuracy = 0.209000\n",
      "k = 3, accuracy = 0.202000\n",
      "k = 3, accuracy = 0.194000\n",
      "k = 3, accuracy = 0.214000\n",
      "k = 3, accuracy = 0.186000\n",
      "k = 3, accuracy = 0.209000\n",
      "k = 4, accuracy = 0.202000\n",
      "k = 4, accuracy = 0.194000\n",
      "k = 4, accuracy = 0.214000\n",
      "k = 4, accuracy = 0.186000\n",
      "k = 4, accuracy = 0.209000\n",
      "k = 5, accuracy = 0.202000\n",
      "k = 5, accuracy = 0.194000\n",
      "k = 5, accuracy = 0.214000\n",
      "k = 5, accuracy = 0.186000\n",
      "k = 5, accuracy = 0.209000\n",
      "k = 6, accuracy = 0.202000\n",
      "k = 6, accuracy = 0.194000\n",
      "k = 6, accuracy = 0.214000\n",
      "k = 6, accuracy = 0.186000\n",
      "k = 6, accuracy = 0.209000\n",
      "k = 7, accuracy = 0.202000\n",
      "k = 7, accuracy = 0.194000\n",
      "k = 7, accuracy = 0.214000\n",
      "k = 7, accuracy = 0.186000\n",
      "k = 7, accuracy = 0.209000\n",
      "k = 8, accuracy = 0.202000\n",
      "k = 8, accuracy = 0.194000\n",
      "k = 8, accuracy = 0.214000\n",
      "k = 8, accuracy = 0.186000\n",
      "k = 8, accuracy = 0.209000\n",
      "k = 9, accuracy = 0.202000\n",
      "k = 9, accuracy = 0.194000\n",
      "k = 9, accuracy = 0.214000\n",
      "k = 9, accuracy = 0.186000\n",
      "k = 9, accuracy = 0.209000\n",
      "k = 10, accuracy = 0.202000\n",
      "k = 10, accuracy = 0.194000\n",
      "k = 10, accuracy = 0.214000\n",
      "k = 10, accuracy = 0.186000\n",
      "k = 10, accuracy = 0.209000\n",
      "k = 11, accuracy = 0.202000\n",
      "k = 11, accuracy = 0.194000\n",
      "k = 11, accuracy = 0.214000\n",
      "k = 11, accuracy = 0.186000\n",
      "k = 11, accuracy = 0.209000\n",
      "k = 12, accuracy = 0.202000\n",
      "k = 12, accuracy = 0.194000\n",
      "k = 12, accuracy = 0.214000\n",
      "k = 12, accuracy = 0.186000\n",
      "k = 12, accuracy = 0.209000\n",
      "k = 13, accuracy = 0.202000\n",
      "k = 13, accuracy = 0.194000\n",
      "k = 13, accuracy = 0.214000\n",
      "k = 13, accuracy = 0.186000\n",
      "k = 13, accuracy = 0.209000\n",
      "k = 14, accuracy = 0.202000\n",
      "k = 14, accuracy = 0.194000\n",
      "k = 14, accuracy = 0.214000\n",
      "k = 14, accuracy = 0.186000\n",
      "k = 14, accuracy = 0.209000\n",
      "k = 15, accuracy = 0.202000\n",
      "k = 15, accuracy = 0.194000\n",
      "k = 15, accuracy = 0.214000\n",
      "k = 15, accuracy = 0.186000\n",
      "k = 15, accuracy = 0.209000\n",
      "k = 16, accuracy = 0.202000\n",
      "k = 16, accuracy = 0.194000\n",
      "k = 16, accuracy = 0.214000\n",
      "k = 16, accuracy = 0.186000\n",
      "k = 16, accuracy = 0.209000\n",
      "k = 17, accuracy = 0.202000\n",
      "k = 17, accuracy = 0.194000\n",
      "k = 17, accuracy = 0.214000\n",
      "k = 17, accuracy = 0.186000\n",
      "k = 17, accuracy = 0.209000\n",
      "k = 18, accuracy = 0.202000\n",
      "k = 18, accuracy = 0.194000\n",
      "k = 18, accuracy = 0.214000\n",
      "k = 18, accuracy = 0.186000\n",
      "k = 18, accuracy = 0.209000\n",
      "k = 19, accuracy = 0.202000\n",
      "k = 19, accuracy = 0.194000\n",
      "k = 19, accuracy = 0.214000\n",
      "k = 19, accuracy = 0.186000\n",
      "k = 19, accuracy = 0.209000\n",
      "k = 20, accuracy = 0.202000\n",
      "k = 20, accuracy = 0.194000\n",
      "k = 20, accuracy = 0.214000\n",
      "k = 20, accuracy = 0.186000\n",
      "k = 20, accuracy = 0.209000\n"
     ]
    }
   ],
   "source": [
    "# This is our Cross Validation and Accuracy Calculation Part\n",
    "#Number of fold is 5 here, and the number of folder is bigger is better for certain dataset, not for all\n",
    "\n",
    "num_folds = 5\n",
    "#k_choices = [1, 3, 5, 8, 10]\n",
    "#k_choices = [1, 3, 5, 20, 50, 100]\n",
    "#k_choices = [1, 3, 5, 8, 10, 12, 15, 20, 50, 100]\n",
    "k_choices = [1,2, 3,4, 5,6,7, 8,9, 10,11, 12,13,14, 15,16,17,18,19, 20]\n",
    "\n",
    "X_train_folds = []\n",
    "y_train_folds = []\n",
    "\n",
    "X_train_folds = np.array_split(X_train,num_folds)\n",
    "y_train_folds = np.array_split(y_train,num_folds)\n",
    "k_to_accuracies = {}\n",
    "\n",
    "\n",
    "\n",
    "for k in k_choices:\n",
    "    k_to_accuracies[k] = []\n",
    "    for num_knn in range(0,num_folds):\n",
    "        X_test = X_train_folds[num_knn]\n",
    "        y_test = y_train_folds[num_knn]\n",
    "        X_train = X_train_folds\n",
    "        y_train = y_train_folds\n",
    "        \n",
    "        temp = np.delete(X_train,num_knn,0)\n",
    "        X_train = np.concatenate((temp),axis = 0)\n",
    "        y_train = np.delete(y_train,num_knn,0)\n",
    "        y_train = np.concatenate((y_train),axis = 0)\n",
    "        \n",
    "        classifier = KNearestNeighbor()\n",
    "        classifier.train(X_train, y_train)\n",
    "        dists = classifier.compute_distances(X_test)\n",
    "        y_test_pred = classifier.predict_labels(dists, k)\n",
    "\n",
    "        num_correct = np.sum(y_test_pred == y_test)\n",
    "        accuracy = float(num_correct) / num_test\n",
    "#         print('Got %d / %d correct => accuracy: %f' % (num_correct, num_test, accuracy))\n",
    "        k_to_accuracies[k].append(accuracy)\n",
    "\n",
    "\n",
    "print(\"Printing our 5-fold accuracies for varying values of k:\")\n",
    "print()\n",
    "for k in sorted(k_to_accuracies):\n",
    "    for accuracy in k_to_accuracies[k]:\n",
    "        print('k = %d, accuracy = %f' % (k, accuracy))"
   ]
  },
  {
   "cell_type": "code",
   "execution_count": 14,
   "metadata": {},
   "outputs": [
    {
     "data": {
      "image/png": "[encoded data removed]",
      "text/plain": [
       "<Figure size 432x288 with 1 Axes>"
      ]
     },
     "metadata": {
      "needs_background": "light"
     },
     "output_type": "display_data"
    }
   ],
   "source": [
    "for k in k_choices:\n",
    "    accuracies = k_to_accuracies[k]\n",
    "    plt.scatter([k] * len(accuracies), accuracies)\n",
    "\n",
    "# ploting the trend line with error bars that correspond to standard deviation\n",
    "\n",
    "accuracies_mean = np.array([np.mean(v) for k,v in sorted(k_to_accuracies.items())])\n",
    "accuracies_std = np.array([np.std(v) for k,v in sorted(k_to_accuracies.items())])\n",
    "plt.errorbar(k_choices, accuracies_mean, yerr=accuracies_std)\n",
    "plt.title('Cross-validation on k')\n",
    "plt.xlabel('k')\n",
    "plt.ylabel('Cross-validation accuracy')\n",
    "plt.show()"
   ]
  },
  {
   "cell_type": "code",
   "execution_count": null,
   "metadata": {},
   "outputs": [],
   "source": []
  }
 ],
 "metadata": {
  "kernelspec": {
   "display_name": "Python 3",
   "language": "python",
   "name": "python3"
  },
  "language_info": {
   "codemirror_mode": {
    "name": "ipython",
    "version": 3
   },
   "file_extension": ".py",
   "mimetype": "text/x-python",
   "name": "python",
   "nbconvert_exporter": "python",
   "pygments_lexer": "ipython3",
   "version": "3.6.5"
  }
 },
 "nbformat": 4,
 "nbformat_minor": 2
}
